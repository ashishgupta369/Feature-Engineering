{
 "cells": [
  {
   "cell_type": "code",
   "execution_count": null,
   "id": "ed5920cd-45cb-4561-9e76-2933eb8b15f6",
   "metadata": {},
   "outputs": [],
   "source": [
    "### Ordinal Number Encoding\n",
    "Ordinal number encoding is used in pandas to transform categorical variables into numerical representations, preserving the inherent order or hierarchy between categories. This is particularly useful when working with categorical data that has a natural order, such as \"low\", \"medium\", and \"high \" or \"strongly disagree\", \"disagree\", \"neutral\", \"agree\", and \"strongly agree\".\n",
    "\n"
   ]
  },
  {
   "cell_type": "code",
   "execution_count": 33,
   "id": "b20313c9-c2d2-4de3-8d97-3dbe37b7867d",
   "metadata": {},
   "outputs": [],
   "source": [
    "import datetime"
   ]
  },
  {
   "cell_type": "code",
   "execution_count": 34,
   "id": "d9f31107-7610-491d-90e8-0231dea08c1a",
   "metadata": {},
   "outputs": [],
   "source": [
    "today_date=datetime.datetime.today()"
   ]
  },
  {
   "cell_type": "code",
   "execution_count": 35,
   "id": "44105278-1a21-4791-baca-fed15c355b3e",
   "metadata": {},
   "outputs": [
    {
     "data": {
      "text/plain": [
       "datetime.datetime(2024, 9, 26, 21, 28, 8, 848861)"
      ]
     },
     "execution_count": 35,
     "metadata": {},
     "output_type": "execute_result"
    }
   ],
   "source": [
    "today_date"
   ]
  },
  {
   "cell_type": "code",
   "execution_count": 36,
   "id": "453e7b5f-b4fd-42f3-9d11-ca9b3b869283",
   "metadata": {},
   "outputs": [
    {
     "data": {
      "text/plain": [
       "datetime.datetime(2024, 9, 23, 21, 28, 8, 848861)"
      ]
     },
     "execution_count": 36,
     "metadata": {},
     "output_type": "execute_result"
    }
   ],
   "source": [
    "today_date-datetime.timedelta(3)"
   ]
  },
  {
   "cell_type": "code",
   "execution_count": 37,
   "id": "89c4af2a-30f0-4831-84d9-31ce14f2b29f",
   "metadata": {},
   "outputs": [],
   "source": [
    "### List comprehensive\n",
    "days=[today_date-datetime.timedelta(x) for x in range(0,15)]"
   ]
  },
  {
   "cell_type": "code",
   "execution_count": 38,
   "id": "39c5159a-89ac-4b44-8420-d7b809877fa3",
   "metadata": {},
   "outputs": [
    {
     "data": {
      "text/plain": [
       "[datetime.datetime(2024, 9, 26, 21, 28, 8, 848861),\n",
       " datetime.datetime(2024, 9, 25, 21, 28, 8, 848861),\n",
       " datetime.datetime(2024, 9, 24, 21, 28, 8, 848861),\n",
       " datetime.datetime(2024, 9, 23, 21, 28, 8, 848861),\n",
       " datetime.datetime(2024, 9, 22, 21, 28, 8, 848861),\n",
       " datetime.datetime(2024, 9, 21, 21, 28, 8, 848861),\n",
       " datetime.datetime(2024, 9, 20, 21, 28, 8, 848861),\n",
       " datetime.datetime(2024, 9, 19, 21, 28, 8, 848861),\n",
       " datetime.datetime(2024, 9, 18, 21, 28, 8, 848861),\n",
       " datetime.datetime(2024, 9, 17, 21, 28, 8, 848861),\n",
       " datetime.datetime(2024, 9, 16, 21, 28, 8, 848861),\n",
       " datetime.datetime(2024, 9, 15, 21, 28, 8, 848861),\n",
       " datetime.datetime(2024, 9, 14, 21, 28, 8, 848861),\n",
       " datetime.datetime(2024, 9, 13, 21, 28, 8, 848861),\n",
       " datetime.datetime(2024, 9, 12, 21, 28, 8, 848861)]"
      ]
     },
     "execution_count": 38,
     "metadata": {},
     "output_type": "execute_result"
    }
   ],
   "source": [
    "days"
   ]
  },
  {
   "cell_type": "code",
   "execution_count": 39,
   "id": "79838e87-a05f-4431-88a8-bcd9078caa12",
   "metadata": {},
   "outputs": [],
   "source": [
    "import pandas as pd\n",
    "data=pd.DataFrame(days)"
   ]
  },
  {
   "cell_type": "code",
   "execution_count": 40,
   "id": "dc2578f5-180f-402e-91af-00a3c7e6f8ed",
   "metadata": {},
   "outputs": [],
   "source": [
    "data.columns=['Day']"
   ]
  },
  {
   "cell_type": "code",
   "execution_count": 41,
   "id": "ca2f10d5-471e-4097-84b7-d46df816f124",
   "metadata": {},
   "outputs": [
    {
     "data": {
      "text/html": [
       "<div>\n",
       "<style scoped>\n",
       "    .dataframe tbody tr th:only-of-type {\n",
       "        vertical-align: middle;\n",
       "    }\n",
       "\n",
       "    .dataframe tbody tr th {\n",
       "        vertical-align: top;\n",
       "    }\n",
       "\n",
       "    .dataframe thead th {\n",
       "        text-align: right;\n",
       "    }\n",
       "</style>\n",
       "<table border=\"1\" class=\"dataframe\">\n",
       "  <thead>\n",
       "    <tr style=\"text-align: right;\">\n",
       "      <th></th>\n",
       "      <th>Day</th>\n",
       "    </tr>\n",
       "  </thead>\n",
       "  <tbody>\n",
       "    <tr>\n",
       "      <th>0</th>\n",
       "      <td>2024-09-26 21:28:08.848861</td>\n",
       "    </tr>\n",
       "    <tr>\n",
       "      <th>1</th>\n",
       "      <td>2024-09-25 21:28:08.848861</td>\n",
       "    </tr>\n",
       "    <tr>\n",
       "      <th>2</th>\n",
       "      <td>2024-09-24 21:28:08.848861</td>\n",
       "    </tr>\n",
       "    <tr>\n",
       "      <th>3</th>\n",
       "      <td>2024-09-23 21:28:08.848861</td>\n",
       "    </tr>\n",
       "    <tr>\n",
       "      <th>4</th>\n",
       "      <td>2024-09-22 21:28:08.848861</td>\n",
       "    </tr>\n",
       "  </tbody>\n",
       "</table>\n",
       "</div>"
      ],
      "text/plain": [
       "                         Day\n",
       "0 2024-09-26 21:28:08.848861\n",
       "1 2024-09-25 21:28:08.848861\n",
       "2 2024-09-24 21:28:08.848861\n",
       "3 2024-09-23 21:28:08.848861\n",
       "4 2024-09-22 21:28:08.848861"
      ]
     },
     "execution_count": 41,
     "metadata": {},
     "output_type": "execute_result"
    }
   ],
   "source": [
    "data.head()"
   ]
  },
  {
   "cell_type": "code",
   "execution_count": 42,
   "id": "b91797ab-ae26-409f-b6b2-149ad64eda07",
   "metadata": {},
   "outputs": [
    {
     "data": {
      "text/plain": [
       "Day    datetime64[ns]\n",
       "dtype: object"
      ]
     },
     "execution_count": 42,
     "metadata": {},
     "output_type": "execute_result"
    }
   ],
   "source": [
    "data.dtypes"
   ]
  },
  {
   "cell_type": "code",
   "execution_count": 43,
   "id": "afb6eaab-5dc6-40c1-a812-9e360c10d19d",
   "metadata": {},
   "outputs": [],
   "source": [
    "data['Weekday']=data['Day'].dt.day_name()"
   ]
  },
  {
   "cell_type": "code",
   "execution_count": 44,
   "id": "28f3e149-e16e-4673-91c6-259f7b7fd170",
   "metadata": {},
   "outputs": [
    {
     "data": {
      "text/html": [
       "<div>\n",
       "<style scoped>\n",
       "    .dataframe tbody tr th:only-of-type {\n",
       "        vertical-align: middle;\n",
       "    }\n",
       "\n",
       "    .dataframe tbody tr th {\n",
       "        vertical-align: top;\n",
       "    }\n",
       "\n",
       "    .dataframe thead th {\n",
       "        text-align: right;\n",
       "    }\n",
       "</style>\n",
       "<table border=\"1\" class=\"dataframe\">\n",
       "  <thead>\n",
       "    <tr style=\"text-align: right;\">\n",
       "      <th></th>\n",
       "      <th>Day</th>\n",
       "      <th>Weekday</th>\n",
       "    </tr>\n",
       "  </thead>\n",
       "  <tbody>\n",
       "    <tr>\n",
       "      <th>0</th>\n",
       "      <td>2024-09-26 21:28:08.848861</td>\n",
       "      <td>Thursday</td>\n",
       "    </tr>\n",
       "    <tr>\n",
       "      <th>1</th>\n",
       "      <td>2024-09-25 21:28:08.848861</td>\n",
       "      <td>Wednesday</td>\n",
       "    </tr>\n",
       "    <tr>\n",
       "      <th>2</th>\n",
       "      <td>2024-09-24 21:28:08.848861</td>\n",
       "      <td>Tuesday</td>\n",
       "    </tr>\n",
       "    <tr>\n",
       "      <th>3</th>\n",
       "      <td>2024-09-23 21:28:08.848861</td>\n",
       "      <td>Monday</td>\n",
       "    </tr>\n",
       "    <tr>\n",
       "      <th>4</th>\n",
       "      <td>2024-09-22 21:28:08.848861</td>\n",
       "      <td>Sunday</td>\n",
       "    </tr>\n",
       "  </tbody>\n",
       "</table>\n",
       "</div>"
      ],
      "text/plain": [
       "                         Day    Weekday\n",
       "0 2024-09-26 21:28:08.848861   Thursday\n",
       "1 2024-09-25 21:28:08.848861  Wednesday\n",
       "2 2024-09-24 21:28:08.848861    Tuesday\n",
       "3 2024-09-23 21:28:08.848861     Monday\n",
       "4 2024-09-22 21:28:08.848861     Sunday"
      ]
     },
     "execution_count": 44,
     "metadata": {},
     "output_type": "execute_result"
    }
   ],
   "source": [
    "data.head()"
   ]
  },
  {
   "cell_type": "code",
   "execution_count": 45,
   "id": "da3ad24a-8d37-44cf-9700-19cb8ca7bea1",
   "metadata": {},
   "outputs": [],
   "source": [
    "dictionary={'Monday':1,'Tuesday':2,'Wednesday':3,'Thursday':4,'Friday':5,'Saturday':6,'Sunday':7}"
   ]
  },
  {
   "cell_type": "code",
   "execution_count": 46,
   "id": "01dc3c36-27a2-4a87-ae43-031216d00e32",
   "metadata": {},
   "outputs": [],
   "source": [
    "data['Weekday_Ordinal']=data['Weekday'].map(dictionary)"
   ]
  },
  {
   "cell_type": "code",
   "execution_count": 47,
   "id": "156e9789-172b-4d18-9696-f9f6bda5e72d",
   "metadata": {},
   "outputs": [
    {
     "data": {
      "text/html": [
       "<div>\n",
       "<style scoped>\n",
       "    .dataframe tbody tr th:only-of-type {\n",
       "        vertical-align: middle;\n",
       "    }\n",
       "\n",
       "    .dataframe tbody tr th {\n",
       "        vertical-align: top;\n",
       "    }\n",
       "\n",
       "    .dataframe thead th {\n",
       "        text-align: right;\n",
       "    }\n",
       "</style>\n",
       "<table border=\"1\" class=\"dataframe\">\n",
       "  <thead>\n",
       "    <tr style=\"text-align: right;\">\n",
       "      <th></th>\n",
       "      <th>Day</th>\n",
       "      <th>Weekday</th>\n",
       "      <th>Weekday_Ordinal</th>\n",
       "    </tr>\n",
       "  </thead>\n",
       "  <tbody>\n",
       "    <tr>\n",
       "      <th>0</th>\n",
       "      <td>2024-09-26 21:28:08.848861</td>\n",
       "      <td>Thursday</td>\n",
       "      <td>4</td>\n",
       "    </tr>\n",
       "    <tr>\n",
       "      <th>1</th>\n",
       "      <td>2024-09-25 21:28:08.848861</td>\n",
       "      <td>Wednesday</td>\n",
       "      <td>3</td>\n",
       "    </tr>\n",
       "    <tr>\n",
       "      <th>2</th>\n",
       "      <td>2024-09-24 21:28:08.848861</td>\n",
       "      <td>Tuesday</td>\n",
       "      <td>2</td>\n",
       "    </tr>\n",
       "    <tr>\n",
       "      <th>3</th>\n",
       "      <td>2024-09-23 21:28:08.848861</td>\n",
       "      <td>Monday</td>\n",
       "      <td>1</td>\n",
       "    </tr>\n",
       "    <tr>\n",
       "      <th>4</th>\n",
       "      <td>2024-09-22 21:28:08.848861</td>\n",
       "      <td>Sunday</td>\n",
       "      <td>7</td>\n",
       "    </tr>\n",
       "  </tbody>\n",
       "</table>\n",
       "</div>"
      ],
      "text/plain": [
       "                         Day    Weekday  Weekday_Ordinal\n",
       "0 2024-09-26 21:28:08.848861   Thursday                4\n",
       "1 2024-09-25 21:28:08.848861  Wednesday                3\n",
       "2 2024-09-24 21:28:08.848861    Tuesday                2\n",
       "3 2024-09-23 21:28:08.848861     Monday                1\n",
       "4 2024-09-22 21:28:08.848861     Sunday                7"
      ]
     },
     "execution_count": 47,
     "metadata": {},
     "output_type": "execute_result"
    }
   ],
   "source": [
    "data.head()"
   ]
  },
  {
   "cell_type": "code",
   "execution_count": null,
   "id": "45ae311a-799b-4488-98c7-65c946b3918b",
   "metadata": {},
   "outputs": [],
   "source": []
  }
 ],
 "metadata": {
  "kernelspec": {
   "display_name": "Python 3 (ipykernel)",
   "language": "python",
   "name": "python3"
  },
  "language_info": {
   "codemirror_mode": {
    "name": "ipython",
    "version": 3
   },
   "file_extension": ".py",
   "mimetype": "text/x-python",
   "name": "python",
   "nbconvert_exporter": "python",
   "pygments_lexer": "ipython3",
   "version": "3.12.4"
  }
 },
 "nbformat": 4,
 "nbformat_minor": 5
}
